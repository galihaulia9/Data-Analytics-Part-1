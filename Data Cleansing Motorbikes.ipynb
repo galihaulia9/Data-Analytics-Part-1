{
 "cells": [
  {
   "cell_type": "markdown",
   "id": "e75a13ec",
   "metadata": {},
   "source": [
    "## Data Cleansing Motorbike Marketplace\n"
   ]
  },
  {
   "cell_type": "markdown",
   "id": "bdbd557b",
   "metadata": {},
   "source": [
    "Kelompok 2 \n",
    "\n",
    "1. Daniel Adless Erich\n",
    "2. Fitri Nur Utami\n",
    "3. Galih Aulia Murdyahanjani\n",
    "4. Dyah Najunda Salsabila\n",
    "5. Widya Arum Indra Yusita"
   ]
  },
  {
   "cell_type": "code",
   "execution_count": 1,
   "id": "ef17178d",
   "metadata": {},
   "outputs": [],
   "source": [
    "import pandas as pd\n",
    "import numpy as np\n",
    "import matplotlib.pyplot as plt\n",
    "%matplotlib inline\n",
    "import seaborn as sns"
   ]
  },
  {
   "cell_type": "markdown",
   "id": "60d87209",
   "metadata": {},
   "source": [
    "- Here the dataset used is motorbikes.csv data\n",
    "\n",
    "##### About motorcycle information on one of Europe's largest motor vehicle sales platforms"
   ]
  },
  {
   "cell_type": "code",
   "execution_count": 2,
   "id": "6493ce5b",
   "metadata": {},
   "outputs": [],
   "source": [
    "df = pd.read_csv('europe-motorbikes-zenrows.csv')"
   ]
  },
  {
   "cell_type": "markdown",
   "id": "791b8394",
   "metadata": {},
   "source": [
    "- Show dataset that has been loadedHere we want to display the top 10 data contents of a file europe motor bikes zenrows.\n",
    "\n",
    "In this data there are 10 columns, namely :\n",
    "- column price: discusses the price of the motorcycle on sale\n",
    "- column Mileage: discusses the kilometers (KM) found on a motorcycle\n",
    "- column power: discusses the power of the motorcycle engine\n",
    "- column make model : discusses the brand and model of the motorcycle\n",
    "- column date : the date of the sale\n",
    "- column fuel: discusses the fuel used by the motorcycle.\n",
    "- column gear : the number of gears contained in the motorcycle.\n",
    "- column offer type : offer (new motorcycle or second motorcycle)\n",
    "- column version : the version of the motorcycle.\n",
    "- column link : link of the information"
   ]
  },
  {
   "cell_type": "code",
   "execution_count": 3,
   "id": "d99a9b1c",
   "metadata": {},
   "outputs": [
    {
     "data": {
      "text/html": [
       "<div>\n",
       "<style scoped>\n",
       "    .dataframe tbody tr th:only-of-type {\n",
       "        vertical-align: middle;\n",
       "    }\n",
       "\n",
       "    .dataframe tbody tr th {\n",
       "        vertical-align: top;\n",
       "    }\n",
       "\n",
       "    .dataframe thead th {\n",
       "        text-align: right;\n",
       "    }\n",
       "</style>\n",
       "<table border=\"1\" class=\"dataframe\">\n",
       "  <thead>\n",
       "    <tr style=\"text-align: right;\">\n",
       "      <th></th>\n",
       "      <th>price</th>\n",
       "      <th>mileage</th>\n",
       "      <th>power</th>\n",
       "      <th>make_model</th>\n",
       "      <th>date</th>\n",
       "      <th>fuel</th>\n",
       "      <th>gear</th>\n",
       "      <th>offer_type</th>\n",
       "      <th>version</th>\n",
       "      <th>link</th>\n",
       "    </tr>\n",
       "  </thead>\n",
       "  <tbody>\n",
       "    <tr>\n",
       "      <th>0</th>\n",
       "      <td>23990</td>\n",
       "      <td>150</td>\n",
       "      <td>218.0</td>\n",
       "      <td>Honda</td>\n",
       "      <td>03/2020</td>\n",
       "      <td>Gasoline</td>\n",
       "      <td>Manual</td>\n",
       "      <td>Demonstration</td>\n",
       "      <td>CBR1000RR-R Fireblade SP</td>\n",
       "      <td>/offers/honda-others-cbr1000rr-r-fireblade-sp-...</td>\n",
       "    </tr>\n",
       "    <tr>\n",
       "      <th>1</th>\n",
       "      <td>7500</td>\n",
       "      <td>2871</td>\n",
       "      <td>90.0</td>\n",
       "      <td>BMW F 800 GT</td>\n",
       "      <td>09/2018</td>\n",
       "      <td>Gasoline</td>\n",
       "      <td>Manual</td>\n",
       "      <td>Used</td>\n",
       "      <td>NaN</td>\n",
       "      <td>/offers/bmw-f-800-gt-gasoline-white-f65273c6-6...</td>\n",
       "    </tr>\n",
       "    <tr>\n",
       "      <th>2</th>\n",
       "      <td>800</td>\n",
       "      <td>1700</td>\n",
       "      <td>3.0</td>\n",
       "      <td>Nova Motors Retro Star</td>\n",
       "      <td>10/2019</td>\n",
       "      <td>Gasoline</td>\n",
       "      <td>NaN</td>\n",
       "      <td>Used</td>\n",
       "      <td>NaN</td>\n",
       "      <td>/offers/nova-motors-retro-star-gasoline-red-f8...</td>\n",
       "    </tr>\n",
       "    <tr>\n",
       "      <th>3</th>\n",
       "      <td>14990</td>\n",
       "      <td>24345</td>\n",
       "      <td>NaN</td>\n",
       "      <td>Aprilia RSV4</td>\n",
       "      <td>03/2016</td>\n",
       "      <td>Gasoline</td>\n",
       "      <td>NaN</td>\n",
       "      <td>Used</td>\n",
       "      <td>RF</td>\n",
       "      <td>/offers/aprilia-rsv4-rf-gasoline-silver-1b51fe...</td>\n",
       "    </tr>\n",
       "    <tr>\n",
       "      <th>4</th>\n",
       "      <td>6200</td>\n",
       "      <td>25000</td>\n",
       "      <td>128.0</td>\n",
       "      <td>Kawasaki Ninja ZX-6R</td>\n",
       "      <td>08/2009</td>\n",
       "      <td>Gasoline</td>\n",
       "      <td>NaN</td>\n",
       "      <td>Used</td>\n",
       "      <td>NaN</td>\n",
       "      <td>/offers/kawasaki-ninja-zx-6r-gasoline-blue-2f8...</td>\n",
       "    </tr>\n",
       "  </tbody>\n",
       "</table>\n",
       "</div>"
      ],
      "text/plain": [
       "   price  mileage  power              make_model     date      fuel    gear  \\\n",
       "0  23990      150  218.0                   Honda  03/2020  Gasoline  Manual   \n",
       "1   7500     2871   90.0            BMW F 800 GT  09/2018  Gasoline  Manual   \n",
       "2    800     1700    3.0  Nova Motors Retro Star  10/2019  Gasoline     NaN   \n",
       "3  14990    24345    NaN            Aprilia RSV4  03/2016  Gasoline     NaN   \n",
       "4   6200    25000  128.0    Kawasaki Ninja ZX-6R  08/2009  Gasoline     NaN   \n",
       "\n",
       "      offer_type                   version  \\\n",
       "0  Demonstration  CBR1000RR-R Fireblade SP   \n",
       "1           Used                       NaN   \n",
       "2           Used                       NaN   \n",
       "3           Used                        RF   \n",
       "4           Used                       NaN   \n",
       "\n",
       "                                                link  \n",
       "0  /offers/honda-others-cbr1000rr-r-fireblade-sp-...  \n",
       "1  /offers/bmw-f-800-gt-gasoline-white-f65273c6-6...  \n",
       "2  /offers/nova-motors-retro-star-gasoline-red-f8...  \n",
       "3  /offers/aprilia-rsv4-rf-gasoline-silver-1b51fe...  \n",
       "4  /offers/kawasaki-ninja-zx-6r-gasoline-blue-2f8...  "
      ]
     },
     "execution_count": 3,
     "metadata": {},
     "output_type": "execute_result"
    }
   ],
   "source": [
    "df.head()"
   ]
  },
  {
   "cell_type": "markdown",
   "id": "3c2fda9b",
   "metadata": {},
   "source": [
    "- Display data information"
   ]
  },
  {
   "cell_type": "code",
   "execution_count": 4,
   "id": "a45ac86d",
   "metadata": {},
   "outputs": [
    {
     "name": "stdout",
     "output_type": "stream",
     "text": [
      "<class 'pandas.core.frame.DataFrame'>\n",
      "RangeIndex: 34917 entries, 0 to 34916\n",
      "Data columns (total 10 columns):\n",
      " #   Column      Non-Null Count  Dtype  \n",
      "---  ------      --------------  -----  \n",
      " 0   price       34917 non-null  int64  \n",
      " 1   mileage     34917 non-null  int64  \n",
      " 2   power       28598 non-null  float64\n",
      " 3   make_model  34917 non-null  object \n",
      " 4   date        34917 non-null  object \n",
      " 5   fuel        31727 non-null  object \n",
      " 6   gear        12847 non-null  object \n",
      " 7   offer_type  34917 non-null  object \n",
      " 8   version     17413 non-null  object \n",
      " 9   link        34917 non-null  object \n",
      "dtypes: float64(1), int64(2), object(7)\n",
      "memory usage: 2.7+ MB\n"
     ]
    }
   ],
   "source": [
    "df.info()"
   ]
  },
  {
   "cell_type": "markdown",
   "id": "f6e53e82",
   "metadata": {},
   "source": [
    "Here we want to see whether there are missing values or not and the suitability of the type of data used.\n",
    "We can see here that the data with missing values is :\n",
    "\n",
    "- power\n",
    "- fuel\n",
    "- gear\n",
    "- version"
   ]
  },
  {
   "cell_type": "code",
   "execution_count": 5,
   "id": "0e35f83d",
   "metadata": {},
   "outputs": [],
   "source": [
    "df['date'] = pd.to_datetime(df['date'], format='%m/%Y', errors='coerce')"
   ]
  },
  {
   "cell_type": "code",
   "execution_count": 6,
   "id": "7415e3dc",
   "metadata": {},
   "outputs": [
    {
     "name": "stdout",
     "output_type": "stream",
     "text": [
      "datetime64[ns]\n"
     ]
    }
   ],
   "source": [
    "print(df['date'].dtype)"
   ]
  },
  {
   "cell_type": "code",
   "execution_count": 7,
   "id": "e2fef3ea",
   "metadata": {},
   "outputs": [
    {
     "name": "stdout",
     "output_type": "stream",
     "text": [
      "<class 'pandas.core.frame.DataFrame'>\n",
      "RangeIndex: 34917 entries, 0 to 34916\n",
      "Data columns (total 10 columns):\n",
      " #   Column      Non-Null Count  Dtype         \n",
      "---  ------      --------------  -----         \n",
      " 0   price       34917 non-null  int64         \n",
      " 1   mileage     34917 non-null  int64         \n",
      " 2   power       28598 non-null  float64       \n",
      " 3   make_model  34917 non-null  object        \n",
      " 4   date        34889 non-null  datetime64[ns]\n",
      " 5   fuel        31727 non-null  object        \n",
      " 6   gear        12847 non-null  object        \n",
      " 7   offer_type  34917 non-null  object        \n",
      " 8   version     17413 non-null  object        \n",
      " 9   link        34917 non-null  object        \n",
      "dtypes: datetime64[ns](1), float64(1), int64(2), object(6)\n",
      "memory usage: 2.7+ MB\n"
     ]
    }
   ],
   "source": [
    "df.info()"
   ]
  },
  {
   "cell_type": "code",
   "execution_count": 8,
   "id": "5dcf83e6",
   "metadata": {},
   "outputs": [
    {
     "data": {
      "text/html": [
       "<div>\n",
       "<style scoped>\n",
       "    .dataframe tbody tr th:only-of-type {\n",
       "        vertical-align: middle;\n",
       "    }\n",
       "\n",
       "    .dataframe tbody tr th {\n",
       "        vertical-align: top;\n",
       "    }\n",
       "\n",
       "    .dataframe thead th {\n",
       "        text-align: right;\n",
       "    }\n",
       "</style>\n",
       "<table border=\"1\" class=\"dataframe\">\n",
       "  <thead>\n",
       "    <tr style=\"text-align: right;\">\n",
       "      <th></th>\n",
       "      <th>price</th>\n",
       "      <th>mileage</th>\n",
       "      <th>power</th>\n",
       "      <th>make_model</th>\n",
       "      <th>date</th>\n",
       "      <th>fuel</th>\n",
       "      <th>gear</th>\n",
       "      <th>offer_type</th>\n",
       "      <th>version</th>\n",
       "      <th>link</th>\n",
       "    </tr>\n",
       "  </thead>\n",
       "  <tbody>\n",
       "    <tr>\n",
       "      <th>0</th>\n",
       "      <td>23990</td>\n",
       "      <td>150</td>\n",
       "      <td>218.0</td>\n",
       "      <td>Honda</td>\n",
       "      <td>2020-03-01</td>\n",
       "      <td>Gasoline</td>\n",
       "      <td>Manual</td>\n",
       "      <td>Demonstration</td>\n",
       "      <td>CBR1000RR-R Fireblade SP</td>\n",
       "      <td>/offers/honda-others-cbr1000rr-r-fireblade-sp-...</td>\n",
       "    </tr>\n",
       "    <tr>\n",
       "      <th>1</th>\n",
       "      <td>7500</td>\n",
       "      <td>2871</td>\n",
       "      <td>90.0</td>\n",
       "      <td>BMW F 800 GT</td>\n",
       "      <td>2018-09-01</td>\n",
       "      <td>Gasoline</td>\n",
       "      <td>Manual</td>\n",
       "      <td>Used</td>\n",
       "      <td>NaN</td>\n",
       "      <td>/offers/bmw-f-800-gt-gasoline-white-f65273c6-6...</td>\n",
       "    </tr>\n",
       "    <tr>\n",
       "      <th>2</th>\n",
       "      <td>800</td>\n",
       "      <td>1700</td>\n",
       "      <td>3.0</td>\n",
       "      <td>Nova Motors Retro Star</td>\n",
       "      <td>2019-10-01</td>\n",
       "      <td>Gasoline</td>\n",
       "      <td>NaN</td>\n",
       "      <td>Used</td>\n",
       "      <td>NaN</td>\n",
       "      <td>/offers/nova-motors-retro-star-gasoline-red-f8...</td>\n",
       "    </tr>\n",
       "    <tr>\n",
       "      <th>3</th>\n",
       "      <td>14990</td>\n",
       "      <td>24345</td>\n",
       "      <td>NaN</td>\n",
       "      <td>Aprilia RSV4</td>\n",
       "      <td>2016-03-01</td>\n",
       "      <td>Gasoline</td>\n",
       "      <td>NaN</td>\n",
       "      <td>Used</td>\n",
       "      <td>RF</td>\n",
       "      <td>/offers/aprilia-rsv4-rf-gasoline-silver-1b51fe...</td>\n",
       "    </tr>\n",
       "    <tr>\n",
       "      <th>4</th>\n",
       "      <td>6200</td>\n",
       "      <td>25000</td>\n",
       "      <td>128.0</td>\n",
       "      <td>Kawasaki Ninja ZX-6R</td>\n",
       "      <td>2009-08-01</td>\n",
       "      <td>Gasoline</td>\n",
       "      <td>NaN</td>\n",
       "      <td>Used</td>\n",
       "      <td>NaN</td>\n",
       "      <td>/offers/kawasaki-ninja-zx-6r-gasoline-blue-2f8...</td>\n",
       "    </tr>\n",
       "  </tbody>\n",
       "</table>\n",
       "</div>"
      ],
      "text/plain": [
       "   price  mileage  power              make_model       date      fuel    gear  \\\n",
       "0  23990      150  218.0                   Honda 2020-03-01  Gasoline  Manual   \n",
       "1   7500     2871   90.0            BMW F 800 GT 2018-09-01  Gasoline  Manual   \n",
       "2    800     1700    3.0  Nova Motors Retro Star 2019-10-01  Gasoline     NaN   \n",
       "3  14990    24345    NaN            Aprilia RSV4 2016-03-01  Gasoline     NaN   \n",
       "4   6200    25000  128.0    Kawasaki Ninja ZX-6R 2009-08-01  Gasoline     NaN   \n",
       "\n",
       "      offer_type                   version  \\\n",
       "0  Demonstration  CBR1000RR-R Fireblade SP   \n",
       "1           Used                       NaN   \n",
       "2           Used                       NaN   \n",
       "3           Used                        RF   \n",
       "4           Used                       NaN   \n",
       "\n",
       "                                                link  \n",
       "0  /offers/honda-others-cbr1000rr-r-fireblade-sp-...  \n",
       "1  /offers/bmw-f-800-gt-gasoline-white-f65273c6-6...  \n",
       "2  /offers/nova-motors-retro-star-gasoline-red-f8...  \n",
       "3  /offers/aprilia-rsv4-rf-gasoline-silver-1b51fe...  \n",
       "4  /offers/kawasaki-ninja-zx-6r-gasoline-blue-2f8...  "
      ]
     },
     "execution_count": 8,
     "metadata": {},
     "output_type": "execute_result"
    }
   ],
   "source": [
    "df.head()"
   ]
  },
  {
   "cell_type": "markdown",
   "id": "5357e1fe",
   "metadata": {},
   "source": [
    "## Column power"
   ]
  },
  {
   "cell_type": "markdown",
   "id": "8f15cdf4",
   "metadata": {},
   "source": [
    "- Show the column visualization"
   ]
  },
  {
   "cell_type": "code",
   "execution_count": 9,
   "id": "dd6e310e",
   "metadata": {},
   "outputs": [
    {
     "data": {
      "image/png": "[encoded data removed]",
      "text/plain": [
       "<Figure size 640x480 with 1 Axes>"
      ]
     },
     "metadata": {},
     "output_type": "display_data"
    }
   ],
   "source": [
    "log_power = np.log(df['power'])\n",
    "plt.hist(log_power, bins=20, edgecolor='k')\n",
    "plt.title('Histogram of Log(Power)')\n",
    "plt.xlabel('Log(Power)')\n",
    "plt.ylabel('Frequency')\n",
    "plt.show()"
   ]
  },
  {
   "cell_type": "markdown",
   "id": "04d7adfe",
   "metadata": {},
   "source": [
    "Because column power is skewness distributed\n",
    "\n",
    "then we will do imputation on column power using median\n",
    "\n",
    "after that we overcome the missing value in the power column by using the median.\n",
    "by finding the average of the power contained in the motor, the missing value will be covered."
   ]
  },
  {
   "cell_type": "code",
   "execution_count": 10,
   "id": "2661f092",
   "metadata": {},
   "outputs": [],
   "source": [
    "val = df.power.median()\n",
    "df['power'] = df.power.fillna(val)"
   ]
  },
  {
   "cell_type": "markdown",
   "id": "6ac4090d",
   "metadata": {},
   "source": [
    "Display the dataset info to see if the column power has been imputed.\n",
    "\n",
    "It turns out that the column power has now changed its amount"
   ]
  },
  {
   "cell_type": "code",
   "execution_count": 11,
   "id": "43ef5d70",
   "metadata": {},
   "outputs": [
    {
     "name": "stdout",
     "output_type": "stream",
     "text": [
      "<class 'pandas.core.frame.DataFrame'>\n",
      "RangeIndex: 34917 entries, 0 to 34916\n",
      "Data columns (total 10 columns):\n",
      " #   Column      Non-Null Count  Dtype         \n",
      "---  ------      --------------  -----         \n",
      " 0   price       34917 non-null  int64         \n",
      " 1   mileage     34917 non-null  int64         \n",
      " 2   power       34917 non-null  float64       \n",
      " 3   make_model  34917 non-null  object        \n",
      " 4   date        34889 non-null  datetime64[ns]\n",
      " 5   fuel        31727 non-null  object        \n",
      " 6   gear        12847 non-null  object        \n",
      " 7   offer_type  34917 non-null  object        \n",
      " 8   version     17413 non-null  object        \n",
      " 9   link        34917 non-null  object        \n",
      "dtypes: datetime64[ns](1), float64(1), int64(2), object(6)\n",
      "memory usage: 2.7+ MB\n"
     ]
    }
   ],
   "source": [
    "df.info()"
   ]
  },
  {
   "cell_type": "markdown",
   "id": "f4664484",
   "metadata": {},
   "source": [
    "## Column fuel"
   ]
  },
  {
   "cell_type": "markdown",
   "id": "9eca8b30",
   "metadata": {},
   "source": [
    "The total number of data entries is 34917, while the fuel column has 31727.\n",
    "\n",
    "This means there is null data in the fuel column. \n",
    "\n",
    "Let's check where the null data is?"
   ]
  },
  {
   "cell_type": "code",
   "execution_count": 12,
   "id": "3035f18d",
   "metadata": {},
   "outputs": [
    {
     "data": {
      "text/plain": [
       "18       NaN\n",
       "21       NaN\n",
       "23       NaN\n",
       "24       NaN\n",
       "26       NaN\n",
       "        ... \n",
       "34883    NaN\n",
       "34888    NaN\n",
       "34889    NaN\n",
       "34905    NaN\n",
       "34914    NaN\n",
       "Name: fuel, Length: 3190, dtype: object"
      ]
     },
     "execution_count": 12,
     "metadata": {},
     "output_type": "execute_result"
    }
   ],
   "source": [
    "df.fuel[df.fuel.isnull()]"
   ]
  },
  {
   "cell_type": "markdown",
   "id": "ee0f90ac",
   "metadata": {},
   "source": [
    "Display the proportion of column fuel data.\n",
    "\n",
    "It turns out that the column fuel data is categorical data"
   ]
  },
  {
   "cell_type": "code",
   "execution_count": 13,
   "id": "913623d1",
   "metadata": {},
   "outputs": [
    {
     "data": {
      "text/plain": [
       "Gasoline               30494\n",
       "Two Stroke Gasoline      497\n",
       "Electric                 411\n",
       "Others                   171\n",
       "Diesel                   144\n",
       "Electric/Gasoline          8\n",
       "LPG                        2\n",
       "Name: fuel, dtype: int64"
      ]
     },
     "execution_count": 13,
     "metadata": {},
     "output_type": "execute_result"
    }
   ],
   "source": [
    "df.fuel.value_counts()"
   ]
  },
  {
   "cell_type": "markdown",
   "id": "3fdd29ab",
   "metadata": {},
   "source": [
    "If we want to do imputation on column fuel\n",
    "\n",
    "then we check the column fuel data type first.\n",
    "\n",
    "The column fuel data is categorical data so the imputation uses the mode.\n",
    "\n",
    "From the column fuel proportion, Gasoline is the most frequent data so Gasoline is the mode."
   ]
  },
  {
   "cell_type": "code",
   "execution_count": 14,
   "id": "c2b743db",
   "metadata": {},
   "outputs": [],
   "source": [
    "val = df.fuel.mode().values[0]\n",
    "df['fuel'] = df.fuel.fillna(val)"
   ]
  },
  {
   "cell_type": "markdown",
   "id": "b6502694",
   "metadata": {},
   "source": [
    "After imputation, it can be seen that the proportion has changed."
   ]
  },
  {
   "cell_type": "code",
   "execution_count": 15,
   "id": "c185ca9c",
   "metadata": {},
   "outputs": [
    {
     "data": {
      "text/plain": [
       "Gasoline               33684\n",
       "Two Stroke Gasoline      497\n",
       "Electric                 411\n",
       "Others                   171\n",
       "Diesel                   144\n",
       "Electric/Gasoline          8\n",
       "LPG                        2\n",
       "Name: fuel, dtype: int64"
      ]
     },
     "execution_count": 15,
     "metadata": {},
     "output_type": "execute_result"
    }
   ],
   "source": [
    "df.fuel.value_counts()"
   ]
  },
  {
   "cell_type": "markdown",
   "id": "4dbe06ec",
   "metadata": {},
   "source": [
    "- Show the latest information from column gear"
   ]
  },
  {
   "cell_type": "code",
   "execution_count": 16,
   "id": "a712bfbc",
   "metadata": {},
   "outputs": [
    {
     "name": "stdout",
     "output_type": "stream",
     "text": [
      "<class 'pandas.core.frame.DataFrame'>\n",
      "RangeIndex: 34917 entries, 0 to 34916\n",
      "Data columns (total 10 columns):\n",
      " #   Column      Non-Null Count  Dtype         \n",
      "---  ------      --------------  -----         \n",
      " 0   price       34917 non-null  int64         \n",
      " 1   mileage     34917 non-null  int64         \n",
      " 2   power       34917 non-null  float64       \n",
      " 3   make_model  34917 non-null  object        \n",
      " 4   date        34889 non-null  datetime64[ns]\n",
      " 5   fuel        34917 non-null  object        \n",
      " 6   gear        12847 non-null  object        \n",
      " 7   offer_type  34917 non-null  object        \n",
      " 8   version     17413 non-null  object        \n",
      " 9   link        34917 non-null  object        \n",
      "dtypes: datetime64[ns](1), float64(1), int64(2), object(6)\n",
      "memory usage: 2.7+ MB\n"
     ]
    }
   ],
   "source": [
    "df.info()"
   ]
  },
  {
   "cell_type": "markdown",
   "id": "ff12d817",
   "metadata": {},
   "source": [
    "## Column gear"
   ]
  },
  {
   "cell_type": "markdown",
   "id": "92a02bf6",
   "metadata": {},
   "source": [
    "From the above results, it can be seen that there are only 12,847 entries while in the Europe-swebbikes-zenrows there are 34,917 entries. Since there is only 37% of the actual data entry, it drops on the column gear.\n",
    "This cannot interfere with the data clearing process or does not affect the process.\n",
    "\n",
    "*gear\" is a column indicating the type of transmission or gear used by the vehicle*"
   ]
  },
  {
   "cell_type": "code",
   "execution_count": 17,
   "id": "f862219e",
   "metadata": {},
   "outputs": [],
   "source": [
    "df.drop('gear', axis=1, inplace = True)"
   ]
  },
  {
   "cell_type": "markdown",
   "id": "58c2450a",
   "metadata": {},
   "source": [
    "*The column gear has been dropped, so to check again if the column has been successfully dropped or not, then we check with df.info ()*"
   ]
  },
  {
   "cell_type": "code",
   "execution_count": 18,
   "id": "98d751de",
   "metadata": {},
   "outputs": [
    {
     "name": "stdout",
     "output_type": "stream",
     "text": [
      "<class 'pandas.core.frame.DataFrame'>\n",
      "RangeIndex: 34917 entries, 0 to 34916\n",
      "Data columns (total 9 columns):\n",
      " #   Column      Non-Null Count  Dtype         \n",
      "---  ------      --------------  -----         \n",
      " 0   price       34917 non-null  int64         \n",
      " 1   mileage     34917 non-null  int64         \n",
      " 2   power       34917 non-null  float64       \n",
      " 3   make_model  34917 non-null  object        \n",
      " 4   date        34889 non-null  datetime64[ns]\n",
      " 5   fuel        34917 non-null  object        \n",
      " 6   offer_type  34917 non-null  object        \n",
      " 7   version     17413 non-null  object        \n",
      " 8   link        34917 non-null  object        \n",
      "dtypes: datetime64[ns](1), float64(1), int64(2), object(5)\n",
      "memory usage: 2.4+ MB\n"
     ]
    }
   ],
   "source": [
    "df.info()"
   ]
  },
  {
   "cell_type": "markdown",
   "id": "d4ceb8c5",
   "metadata": {},
   "source": [
    "*It can be seen that the column gear is already unavailable, so the miss value in the europebikes-zenrows data begins to decrease*"
   ]
  },
  {
   "cell_type": "markdown",
   "id": "1065601a",
   "metadata": {},
   "source": [
    "## Column version"
   ]
  },
  {
   "cell_type": "markdown",
   "id": "d9cb69de",
   "metadata": {},
   "source": [
    "The total number of data entries is 34917, while the column version is 17413.\n",
    "\n",
    "This means there is null data in the version column. \n",
    "\n",
    "Show the proportion of column version data"
   ]
  },
  {
   "cell_type": "code",
   "execution_count": 19,
   "id": "24de5c00",
   "metadata": {},
   "outputs": [
    {
     "data": {
      "text/plain": [
       "ABS                                     720\n",
       "0                                       282\n",
       "S                                       235\n",
       "R                                       234\n",
       "abs                                      75\n",
       "                                       ... \n",
       "VIELE EXTRAS] [SCHECKHEFTGEPFLEGT]        1\n",
       "LowRider S FXDL 103                       1\n",
       "Super Tenere - Touren Enduro              1\n",
       "XL1200CX Roadster TRACK \"Lizard\" 1/1      1\n",
       "Black mit Garantie                        1\n",
       "Name: version, Length: 9478, dtype: int64"
      ]
     },
     "execution_count": 19,
     "metadata": {},
     "output_type": "execute_result"
    }
   ],
   "source": [
    "df.version.value_counts()"
   ]
  },
  {
   "cell_type": "markdown",
   "id": "294bc144",
   "metadata": {},
   "source": [
    "It can be seen that the value column version has a lot of unique data\n",
    "\n",
    "and also the column version information is not too informative to find out the motor version data\n",
    "\n",
    "then we will delete the column version"
   ]
  },
  {
   "cell_type": "code",
   "execution_count": 20,
   "id": "20b27ca7",
   "metadata": {},
   "outputs": [],
   "source": [
    "df.drop('version', axis=1, inplace = True)"
   ]
  },
  {
   "cell_type": "markdown",
   "id": "847a11d7",
   "metadata": {},
   "source": [
    "Display the dataset info to see if the column version has been deleted.\n",
    "\n",
    "It turns out that the column version now no longer appears"
   ]
  },
  {
   "cell_type": "code",
   "execution_count": 21,
   "id": "5e949d87",
   "metadata": {},
   "outputs": [
    {
     "name": "stdout",
     "output_type": "stream",
     "text": [
      "<class 'pandas.core.frame.DataFrame'>\n",
      "RangeIndex: 34917 entries, 0 to 34916\n",
      "Data columns (total 8 columns):\n",
      " #   Column      Non-Null Count  Dtype         \n",
      "---  ------      --------------  -----         \n",
      " 0   price       34917 non-null  int64         \n",
      " 1   mileage     34917 non-null  int64         \n",
      " 2   power       34917 non-null  float64       \n",
      " 3   make_model  34917 non-null  object        \n",
      " 4   date        34889 non-null  datetime64[ns]\n",
      " 5   fuel        34917 non-null  object        \n",
      " 6   offer_type  34917 non-null  object        \n",
      " 7   link        34917 non-null  object        \n",
      "dtypes: datetime64[ns](1), float64(1), int64(2), object(4)\n",
      "memory usage: 2.1+ MB\n"
     ]
    }
   ],
   "source": [
    "df.info()"
   ]
  },
  {
   "cell_type": "markdown",
   "id": "c7ecdfbf",
   "metadata": {},
   "source": [
    "## Relationship between Column fuel and Column mileage"
   ]
  },
  {
   "cell_type": "markdown",
   "id": "26d3855c",
   "metadata": {},
   "source": [
    "We see the proportion of Column fuel with mileage limit from Column mileage.\n",
    "\n",
    "Here is the information on the number of motors using these fuels with the specified mileage and capacity."
   ]
  },
  {
   "cell_type": "code",
   "execution_count": 22,
   "id": "f73531aa",
   "metadata": {},
   "outputs": [
    {
     "data": {
      "text/plain": [
       "Gasoline               737\n",
       "Electric                42\n",
       "Two Stroke Gasoline     36\n",
       "Others                   7\n",
       "Diesel                   2\n",
       "Name: fuel, dtype: int64"
      ]
     },
     "execution_count": 22,
     "metadata": {},
     "output_type": "execute_result"
    }
   ],
   "source": [
    "df.fuel[df['mileage']==1].value_counts()"
   ]
  },
  {
   "cell_type": "markdown",
   "id": "d824729d",
   "metadata": {},
   "source": [
    "- Display visualization of fuel (Column fuel) with mileage (Column mileage) corresponding capacity"
   ]
  },
  {
   "cell_type": "code",
   "execution_count": 23,
   "id": "7c8fff9c",
   "metadata": {},
   "outputs": [
    {
     "data": {
      "image/png": "[encoded data removed]",
      "text/plain": [
       "<Figure size 640x480 with 1 Axes>"
      ]
     },
     "metadata": {},
     "output_type": "display_data"
    }
   ],
   "source": [
    "df.fuel[df['mileage']==1].value_counts().plot(kind='bar');"
   ]
  },
  {
   "cell_type": "markdown",
   "id": "57cb9efd",
   "metadata": {},
   "source": [
    "- Let's compare it with a motorcycle that uses the fuel with a mileage that does not match its capacity."
   ]
  },
  {
   "cell_type": "code",
   "execution_count": 24,
   "id": "23d4b40b",
   "metadata": {},
   "outputs": [
    {
     "data": {
      "text/plain": [
       "Gasoline    1682\n",
       "Diesel        90\n",
       "Electric       2\n",
       "Others         1\n",
       "Name: fuel, dtype: int64"
      ]
     },
     "execution_count": 24,
     "metadata": {},
     "output_type": "execute_result"
    }
   ],
   "source": [
    "df.fuel[df['mileage']==0].value_counts()"
   ]
  },
  {
   "cell_type": "markdown",
   "id": "30d84653",
   "metadata": {},
   "source": [
    "- Show visualization of fuel (Column fuel) that does not match the mileage capacity (column mileage)"
   ]
  },
  {
   "cell_type": "code",
   "execution_count": 25,
   "id": "b08679d5",
   "metadata": {},
   "outputs": [
    {
     "data": {
      "image/png": "[encoded data removed]",
      "text/plain": [
       "<Figure size 640x480 with 1 Axes>"
      ]
     },
     "metadata": {},
     "output_type": "display_data"
    }
   ],
   "source": [
    "df.fuel[df['mileage']==0].value_counts().plot(kind='bar');"
   ]
  },
  {
   "cell_type": "markdown",
   "id": "da6bf68f",
   "metadata": {},
   "source": [
    "## Pivot"
   ]
  },
  {
   "cell_type": "code",
   "execution_count": 26,
   "id": "59213791",
   "metadata": {},
   "outputs": [],
   "source": [
    "def make_pivot(param1, param2):     \n",
    "    df_slice = df[[param1, param2, 'mileage']]     \n",
    "    slice_pivot = df_slice.pivot_table(index=[param1], columns=[param2], \\\n",
    "                                       aggfunc=np.size,fill_value=0)     \n",
    "    p_chart = slice_pivot.plot(kind='bar');     \n",
    "    for p in p_chart.patches:         \n",
    "        p_chart.annotate(str(p.get_height()), (p.get_x() * 1.05, p.get_height() * 1.01))     \n",
    "        return slice_pivot     \n",
    "        return p_chart"
   ]
  },
  {
   "cell_type": "markdown",
   "id": "df289818",
   "metadata": {},
   "source": [
    "## Pivot between Column power and Column fuel"
   ]
  },
  {
   "cell_type": "markdown",
   "id": "3bea5895",
   "metadata": {},
   "source": [
    "*To see the number of motors that use a particular column fuel in the power\n",
    "type group of the column gear motor and to see the distance between the column mileage*"
   ]
  },
  {
   "cell_type": "code",
   "execution_count": 27,
   "id": "a9aa53a1",
   "metadata": {},
   "outputs": [
    {
     "data": {
      "text/html": [
       "<div>\n",
       "<style scoped>\n",
       "    .dataframe tbody tr th:only-of-type {\n",
       "        vertical-align: middle;\n",
       "    }\n",
       "\n",
       "    .dataframe tbody tr th {\n",
       "        vertical-align: top;\n",
       "    }\n",
       "\n",
       "    .dataframe thead tr th {\n",
       "        text-align: left;\n",
       "    }\n",
       "\n",
       "    .dataframe thead tr:last-of-type th {\n",
       "        text-align: right;\n",
       "    }\n",
       "</style>\n",
       "<table border=\"1\" class=\"dataframe\">\n",
       "  <thead>\n",
       "    <tr>\n",
       "      <th></th>\n",
       "      <th colspan=\"7\" halign=\"left\">mileage</th>\n",
       "    </tr>\n",
       "    <tr>\n",
       "      <th>fuel</th>\n",
       "      <th>Diesel</th>\n",
       "      <th>Electric</th>\n",
       "      <th>Electric/Gasoline</th>\n",
       "      <th>Gasoline</th>\n",
       "      <th>LPG</th>\n",
       "      <th>Others</th>\n",
       "      <th>Two Stroke Gasoline</th>\n",
       "    </tr>\n",
       "    <tr>\n",
       "      <th>power</th>\n",
       "      <th></th>\n",
       "      <th></th>\n",
       "      <th></th>\n",
       "      <th></th>\n",
       "      <th></th>\n",
       "      <th></th>\n",
       "      <th></th>\n",
       "    </tr>\n",
       "  </thead>\n",
       "  <tbody>\n",
       "    <tr>\n",
       "      <th>1.0</th>\n",
       "      <td>0</td>\n",
       "      <td>50</td>\n",
       "      <td>0</td>\n",
       "      <td>318</td>\n",
       "      <td>0</td>\n",
       "      <td>6</td>\n",
       "      <td>56</td>\n",
       "    </tr>\n",
       "    <tr>\n",
       "      <th>3.0</th>\n",
       "      <td>1</td>\n",
       "      <td>58</td>\n",
       "      <td>2</td>\n",
       "      <td>327</td>\n",
       "      <td>0</td>\n",
       "      <td>10</td>\n",
       "      <td>66</td>\n",
       "    </tr>\n",
       "    <tr>\n",
       "      <th>4.0</th>\n",
       "      <td>1</td>\n",
       "      <td>43</td>\n",
       "      <td>1</td>\n",
       "      <td>320</td>\n",
       "      <td>0</td>\n",
       "      <td>3</td>\n",
       "      <td>82</td>\n",
       "    </tr>\n",
       "    <tr>\n",
       "      <th>5.0</th>\n",
       "      <td>4</td>\n",
       "      <td>22</td>\n",
       "      <td>1</td>\n",
       "      <td>105</td>\n",
       "      <td>0</td>\n",
       "      <td>2</td>\n",
       "      <td>38</td>\n",
       "    </tr>\n",
       "    <tr>\n",
       "      <th>7.0</th>\n",
       "      <td>3</td>\n",
       "      <td>4</td>\n",
       "      <td>0</td>\n",
       "      <td>91</td>\n",
       "      <td>0</td>\n",
       "      <td>1</td>\n",
       "      <td>20</td>\n",
       "    </tr>\n",
       "    <tr>\n",
       "      <th>...</th>\n",
       "      <td>...</td>\n",
       "      <td>...</td>\n",
       "      <td>...</td>\n",
       "      <td>...</td>\n",
       "      <td>...</td>\n",
       "      <td>...</td>\n",
       "      <td>...</td>\n",
       "    </tr>\n",
       "    <tr>\n",
       "      <th>12447.0</th>\n",
       "      <td>0</td>\n",
       "      <td>0</td>\n",
       "      <td>0</td>\n",
       "      <td>3</td>\n",
       "      <td>0</td>\n",
       "      <td>0</td>\n",
       "      <td>0</td>\n",
       "    </tr>\n",
       "    <tr>\n",
       "      <th>12522.0</th>\n",
       "      <td>0</td>\n",
       "      <td>0</td>\n",
       "      <td>0</td>\n",
       "      <td>1</td>\n",
       "      <td>0</td>\n",
       "      <td>0</td>\n",
       "      <td>0</td>\n",
       "    </tr>\n",
       "    <tr>\n",
       "      <th>23331.0</th>\n",
       "      <td>0</td>\n",
       "      <td>0</td>\n",
       "      <td>0</td>\n",
       "      <td>1</td>\n",
       "      <td>0</td>\n",
       "      <td>0</td>\n",
       "      <td>0</td>\n",
       "    </tr>\n",
       "    <tr>\n",
       "      <th>34596.0</th>\n",
       "      <td>0</td>\n",
       "      <td>0</td>\n",
       "      <td>0</td>\n",
       "      <td>3</td>\n",
       "      <td>0</td>\n",
       "      <td>0</td>\n",
       "      <td>0</td>\n",
       "    </tr>\n",
       "    <tr>\n",
       "      <th>913595.0</th>\n",
       "      <td>0</td>\n",
       "      <td>0</td>\n",
       "      <td>0</td>\n",
       "      <td>3</td>\n",
       "      <td>0</td>\n",
       "      <td>0</td>\n",
       "      <td>0</td>\n",
       "    </tr>\n",
       "  </tbody>\n",
       "</table>\n",
       "<p>287 rows × 7 columns</p>\n",
       "</div>"
      ],
      "text/plain": [
       "         mileage                                                 \\\n",
       "fuel      Diesel Electric Electric/Gasoline Gasoline LPG Others   \n",
       "power                                                             \n",
       "1.0            0       50                 0      318   0      6   \n",
       "3.0            1       58                 2      327   0     10   \n",
       "4.0            1       43                 1      320   0      3   \n",
       "5.0            4       22                 1      105   0      2   \n",
       "7.0            3        4                 0       91   0      1   \n",
       "...          ...      ...               ...      ...  ..    ...   \n",
       "12447.0        0        0                 0        3   0      0   \n",
       "12522.0        0        0                 0        1   0      0   \n",
       "23331.0        0        0                 0        1   0      0   \n",
       "34596.0        0        0                 0        3   0      0   \n",
       "913595.0       0        0                 0        3   0      0   \n",
       "\n",
       "                              \n",
       "fuel     Two Stroke Gasoline  \n",
       "power                         \n",
       "1.0                       56  \n",
       "3.0                       66  \n",
       "4.0                       82  \n",
       "5.0                       38  \n",
       "7.0                       20  \n",
       "...                      ...  \n",
       "12447.0                    0  \n",
       "12522.0                    0  \n",
       "23331.0                    0  \n",
       "34596.0                    0  \n",
       "913595.0                   0  \n",
       "\n",
       "[287 rows x 7 columns]"
      ]
     },
     "execution_count": 27,
     "metadata": {},
     "output_type": "execute_result"
    },
    {
     "data": {
      "image/png": "[encoded data removed]",
      "text/plain": [
       "<Figure size 640x480 with 1 Axes>"
      ]
     },
     "metadata": {},
     "output_type": "display_data"
    }
   ],
   "source": [
    "make_pivot('power', 'fuel')"
   ]
  },
  {
   "cell_type": "markdown",
   "id": "05ef7b7e",
   "metadata": {},
   "source": [
    "## That's it.\n",
    "\n",
    "## Thank you"
   ]
  }
 ],
 "metadata": {
  "kernelspec": {
   "display_name": "Python 3 (ipykernel)",
   "language": "python",
   "name": "python3"
  },
  "language_info": {
   "codemirror_mode": {
    "name": "ipython",
    "version": 3
   },
   "file_extension": ".py",
   "mimetype": "text/x-python",
   "name": "python",
   "nbconvert_exporter": "python",
   "pygments_lexer": "ipython3",
   "version": "3.11.4"
  }
 },
 "nbformat": 4,
 "nbformat_minor": 5
}
